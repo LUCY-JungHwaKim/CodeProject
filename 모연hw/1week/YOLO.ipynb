{
  "nbformat": 4,
  "nbformat_minor": 0,
  "metadata": {
    "colab": {
      "provenance": [],
      "gpuType": "T4",
      "mount_file_id": "1P2qsPjRVxocmH9PrhS4bdP6RlP6GB_O6",
      "authorship_tag": "ABX9TyNNlCnZUQgE2VIC4y3lOauq",
      "include_colab_link": true
    },
    "kernelspec": {
      "name": "python3",
      "display_name": "Python 3"
    },
    "language_info": {
      "name": "python"
    },
    "accelerator": "GPU"
  },
  "cells": [
    {
      "cell_type": "markdown",
      "metadata": {
        "id": "view-in-github",
        "colab_type": "text"
      },
      "source": [
        "<a href=\"https://colab.research.google.com/github/LUCY-JungHwaKim/CodeProject/blob/master/YOLO.ipynb\" target=\"_parent\"><img src=\"https://colab.research.google.com/assets/colab-badge.svg\" alt=\"Open In Colab\"/></a>"
      ]
    },
    {
      "cell_type": "code",
      "source": [
        "from google.colab import drive\n",
        "drive.mount('/content/drive')"
      ],
      "metadata": {
        "colab": {
          "base_uri": "https://localhost:8080/"
        },
        "id": "VYAELEtHyAH-",
        "outputId": "442e8c13-5696-4e26-b17d-92e05440f963"
      },
      "execution_count": 1,
      "outputs": [
        {
          "output_type": "stream",
          "name": "stdout",
          "text": [
            "Drive already mounted at /content/drive; to attempt to forcibly remount, call drive.mount(\"/content/drive\", force_remount=True).\n"
          ]
        }
      ]
    },
    {
      "cell_type": "code",
      "execution_count": 3,
      "metadata": {
        "colab": {
          "base_uri": "https://localhost:8080/"
        },
        "id": "Y2kv8VsZUQlG",
        "outputId": "78384b5e-4189-481e-e5e7-9827c6cd78e3"
      },
      "outputs": [
        {
          "output_type": "stream",
          "name": "stdout",
          "text": [
            "--2023-12-08 04:46:36--  http://host.robots.ox.ac.uk/pascal/VOC/voc2007/VOCtrainval_06-Nov-2007.tar\n",
            "Resolving host.robots.ox.ac.uk (host.robots.ox.ac.uk)... 129.67.94.152\n",
            "Connecting to host.robots.ox.ac.uk (host.robots.ox.ac.uk)|129.67.94.152|:80... connected.\n",
            "HTTP request sent, awaiting response... 200 OK\n",
            "Length: 460032000 (439M) [application/x-tar]\n",
            "Saving to: ‘VOCtrainval_06-Nov-2007.tar’\n",
            "\n",
            "VOCtrainval_06-Nov- 100%[===================>] 438.72M  40.2MB/s    in 12s     \n",
            "\n",
            "2023-12-08 04:46:49 (35.6 MB/s) - ‘VOCtrainval_06-Nov-2007.tar’ saved [460032000/460032000]\n",
            "\n"
          ]
        }
      ],
      "source": [
        "!wget http://host.robots.ox.ac.uk/pascal/VOC/voc2007/VOCtrainval_06-Nov-2007.tar"
      ]
    },
    {
      "cell_type": "code",
      "source": [
        "!wget http://host.robots.ox.ac.uk/pascal/VOC/voc2007/VOCtest_06-Nov-2007.tar"
      ],
      "metadata": {
        "colab": {
          "base_uri": "https://localhost:8080/"
        },
        "id": "GDOxARmAyBI-",
        "outputId": "e6eedff9-b568-451e-8508-856c8aabd629"
      },
      "execution_count": 4,
      "outputs": [
        {
          "output_type": "stream",
          "name": "stdout",
          "text": [
            "--2023-12-08 04:46:49--  http://host.robots.ox.ac.uk/pascal/VOC/voc2007/VOCtest_06-Nov-2007.tar\n",
            "Resolving host.robots.ox.ac.uk (host.robots.ox.ac.uk)... 129.67.94.152\n",
            "Connecting to host.robots.ox.ac.uk (host.robots.ox.ac.uk)|129.67.94.152|:80... connected.\n",
            "HTTP request sent, awaiting response... 200 OK\n",
            "Length: 451020800 (430M) [application/x-tar]\n",
            "Saving to: ‘VOCtest_06-Nov-2007.tar’\n",
            "\n",
            "VOCtest_06-Nov-2007 100%[===================>] 430.13M  39.7MB/s    in 12s     \n",
            "\n",
            "2023-12-08 04:47:01 (35.5 MB/s) - ‘VOCtest_06-Nov-2007.tar’ saved [451020800/451020800]\n",
            "\n"
          ]
        }
      ]
    },
    {
      "cell_type": "code",
      "source": [
        "!wget http://host.robots.ox.ac.uk/pascal/VOC/voc2012/VOCtrainval_11-May-2012.tar"
      ],
      "metadata": {
        "colab": {
          "base_uri": "https://localhost:8080/"
        },
        "id": "zONJiYL1yS0a",
        "outputId": "07b40363-d759-46fe-8fc1-88becc53b813"
      },
      "execution_count": 5,
      "outputs": [
        {
          "output_type": "stream",
          "name": "stdout",
          "text": [
            "--2023-12-08 04:47:01--  http://host.robots.ox.ac.uk/pascal/VOC/voc2012/VOCtrainval_11-May-2012.tar\n",
            "Resolving host.robots.ox.ac.uk (host.robots.ox.ac.uk)... 129.67.94.152\n",
            "Connecting to host.robots.ox.ac.uk (host.robots.ox.ac.uk)|129.67.94.152|:80... connected.\n",
            "HTTP request sent, awaiting response... 200 OK\n",
            "Length: 1999639040 (1.9G) [application/x-tar]\n",
            "Saving to: ‘VOCtrainval_11-May-2012.tar’\n",
            "\n",
            "VOCtrainval_11-May- 100%[===================>]   1.86G  37.6MB/s    in 53s     \n",
            "\n",
            "2023-12-08 04:47:54 (36.3 MB/s) - ‘VOCtrainval_11-May-2012.tar’ saved [1999639040/1999639040]\n",
            "\n"
          ]
        }
      ]
    },
    {
      "cell_type": "code",
      "source": [
        "!tar xf VOCtrainval_11-May-2012.tar\n",
        "!tar xf VOCtrainval_06-Nov-2007.tar\n",
        "!tar xf VOCtest_06-Nov-2007.tar"
      ],
      "metadata": {
        "id": "I91qzdt8ynm3"
      },
      "execution_count": 6,
      "outputs": []
    },
    {
      "cell_type": "code",
      "source": [
        "!wget https://pjreddie.com/media/files/voc_label.py"
      ],
      "metadata": {
        "colab": {
          "base_uri": "https://localhost:8080/"
        },
        "id": "cyEAFgI_y-ow",
        "outputId": "db6ed0ff-b950-4a70-c47d-41c760867c30"
      },
      "execution_count": 7,
      "outputs": [
        {
          "output_type": "stream",
          "name": "stdout",
          "text": [
            "--2023-12-08 04:48:11--  https://pjreddie.com/media/files/voc_label.py\n",
            "Resolving pjreddie.com (pjreddie.com)... 128.208.4.108\n",
            "Connecting to pjreddie.com (pjreddie.com)|128.208.4.108|:443... connected.\n",
            "HTTP request sent, awaiting response... 200 OK\n",
            "Length: 2042 (2.0K) [application/octet-stream]\n",
            "Saving to: ‘voc_label.py’\n",
            "\n",
            "voc_label.py        100%[===================>]   1.99K  --.-KB/s    in 0s      \n",
            "\n",
            "2023-12-08 04:48:12 (805 MB/s) - ‘voc_label.py’ saved [2042/2042]\n",
            "\n"
          ]
        }
      ]
    },
    {
      "cell_type": "code",
      "source": [
        "!python voc_label.py"
      ],
      "metadata": {
        "id": "7oJoka-8zEJi"
      },
      "execution_count": 8,
      "outputs": []
    },
    {
      "cell_type": "code",
      "source": [
        "!cat 2007_train.txt 2007_val.txt 2012_*.txt > train.txt"
      ],
      "metadata": {
        "id": "PNHDPorhzH2z"
      },
      "execution_count": 9,
      "outputs": []
    },
    {
      "cell_type": "code",
      "source": [
        "!cp 2007_test.txt test.txt"
      ],
      "metadata": {
        "id": "L7F9kdaezKG9"
      },
      "execution_count": 10,
      "outputs": []
    },
    {
      "cell_type": "code",
      "source": [
        "!mkdir old_txt_files\n",
        "!mv 2007* 2012* old_txt_files/"
      ],
      "metadata": {
        "id": "nB-vQgSlzLiB"
      },
      "execution_count": 11,
      "outputs": []
    },
    {
      "cell_type": "code",
      "source": [
        "!python ./drive/MyDrive/YOLO/generate_csv.py"
      ],
      "metadata": {
        "id": "iIDY1idzzNhR"
      },
      "execution_count": 12,
      "outputs": []
    },
    {
      "cell_type": "code",
      "source": [
        "!mv VOCdevkit/VOC2007/JPEGImages/*.jpg ./drive/MyDrive/YOLO/data/images/\n",
        "!mv VOCdevkit/VOC2012/JPEGImages/*.jpg ./drive/MyDrive/YOLO/data/images/\n",
        "!mv VOCdevkit/VOC2007/labels/*.txt ./drive/MyDrive/YOLO/data/labels/\n",
        "!mv VOCdevkit/VOC2012/labels/*.txt ./drive/MyDrive/YOLO/data/labels/\n"
      ],
      "metadata": {
        "colab": {
          "base_uri": "https://localhost:8080/"
        },
        "id": "qphH7t_T1sMB",
        "outputId": "572f4683-3538-45c4-ef0b-c2b3f0db6bf6"
      },
      "execution_count": 13,
      "outputs": [
        {
          "output_type": "stream",
          "name": "stdout",
          "text": [
            "mv: cannot stat './drive/MyDrive/YOLO/data/images/000001.jpg': Input/output error\n"
          ]
        }
      ]
    },
    {
      "cell_type": "code",
      "source": [
        "!rm -rf VOCdevkit/\n",
        "!mv test.txt old_txt_files/\n",
        "!mv train.txt old_txt_files/"
      ],
      "metadata": {
        "id": "eoxuxquv1uZx"
      },
      "execution_count": 14,
      "outputs": []
    },
    {
      "cell_type": "code",
      "source": [
        "!python ./drive/MyDrive/YOLO/train.py\n",
        "## epoch = 5으로 설정하였음\n",
        "## 해당 스펙에서 1000은 너무 오래걸림 ㅠㅠ"
      ],
      "metadata": {
        "colab": {
          "base_uri": "https://localhost:8080/"
        },
        "id": "JByLwqXT5nk8",
        "outputId": "8f4269a3-cbea-4428-e7f1-dc9bd11596e9"
      },
      "execution_count": 18,
      "outputs": [
        {
          "output_type": "stream",
          "name": "stdout",
          "text": [
            "cuda\n",
            "Train mAP: 0.0\n",
            "100% 1034/1034 [06:05<00:00,  2.83it/s, loss=242]\n",
            "Mean loss was 211.63664576163376\n",
            "Train mAP: 0.0045614722184836864\n",
            "100% 1034/1034 [06:05<00:00,  2.83it/s, loss=132]\n",
            "Mean loss was 162.1014368732386\n",
            "Train mAP: 0.005546095781028271\n",
            "100% 1034/1034 [06:06<00:00,  2.82it/s, loss=142]\n",
            "Mean loss was 153.4330471415123\n",
            "Train mAP: 0.010544000193476677\n",
            "100% 1034/1034 [06:05<00:00,  2.83it/s, loss=120]\n",
            "Mean loss was 146.2961629576102\n",
            "Train mAP: 0.015292388387024403\n",
            "100% 1034/1034 [06:07<00:00,  2.82it/s, loss=152]\n",
            "Mean loss was 137.50014598411101\n"
          ]
        }
      ]
    },
    {
      "cell_type": "code",
      "source": [
        "## 이렇게 실행이 되면 맞는건지~?"
      ],
      "metadata": {
        "id": "z3_QMKggK-Sn"
      },
      "execution_count": null,
      "outputs": []
    }
  ]
}